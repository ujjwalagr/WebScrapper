{
 "cells": [
  {
   "cell_type": "code",
   "execution_count": 1,
   "metadata": {},
   "outputs": [
    {
     "name": "stdout",
     "output_type": "stream",
     "text": [
      "DataAnalyst_ncr record inserted.\n",
      "location_Jobs record inserted\n"
     ]
    }
   ],
   "source": [
    "# Code to store the data from csv to mysql\n",
    "\n",
    "# Importing mysql connector\n",
    "import mysql.connector\n",
    "import csv\n",
    "\n",
    "# Creating a connection to the database\n",
    "mydb = mysql.connector.connect(\n",
    "    host=\"localhost\",\n",
    "    user=\"root\",\n",
    "    passwd=\"*******\",\n",
    "    database=\"edulab\"\n",
    ")\n",
    "\n",
    "mycursor = mydb.cursor()\n",
    "\n",
    "# Path to the file\n",
    "file_path = r'C:\\Users\\ujjwa\\Documents\\VisualStudio\\Python\\Edugrad\\Week-4\\Assignment_4_Edugrad\\project_1_scrapy\\tmp\\naukri_dataanalytics.csv'\n",
    "\n",
    "# This try block will open the csv and insert the data to the dataanalyst_ncr table\n",
    "try:\n",
    "    with open(file_path) as data_file:\n",
    "        data_file_reader = csv.DictReader(data_file)\n",
    "        for row in data_file_reader:\n",
    "\n",
    "            # Sql query\n",
    "            sql = \"INSERT INTO dataanalyst_ncr\"\\\n",
    "                + '(Job_Title,Experience_Required,Company_Name,Job_Description_Page,KeySkills,Job_Description,Salary,Last_Updated_On) VALUES (%s,%s,%s,%s,%s,%s,%s,CURDATE())'\n",
    "\n",
    "            # Value to the query\n",
    "            val = (row['job_title'], row['exp_req'], row['company_name'],\n",
    "                   row['links_detail'], row['keyskills'], row['job_desc'], row['salary'])\n",
    "\n",
    "            # For Executing the query\n",
    "            mycursor.execute(sql, val)\n",
    "\n",
    "            # For Commiting the changes to the database\n",
    "            mydb.commit()\n",
    "\n",
    "        print(\"DataAnalyst_ncr record inserted.\")\n",
    "except Exception as e:\n",
    "    raise print(e)\n",
    "\n",
    "# This try block will open the location_jobs table and write the data row wise\n",
    "try:\n",
    "    with open(file_path) as job_location:\n",
    "        location_file_loader = csv.DictReader(job_location)\n",
    "        i = 0\n",
    "        for row in location_file_loader:\n",
    "            i += 1\n",
    "\n",
    "            # Spliting the data and storing it in list\n",
    "            lst = row['location'].split(', ')\n",
    "\n",
    "            # Traversing the data and writing it in location_jobs table\n",
    "            for k in range(len(lst)):\n",
    "\n",
    "                # Sql Query to use Foreign key Constraint\n",
    "                sql = 'INSERT INTO location_jobs (Job_Id,Locn_Id,Location) VALUES ((SELECT Job_Id FROM dataanalyst_ncr WHERE dataanalyst_ncr.Job_id = %s),%s,%s)'\n",
    "\n",
    "                # Inserting value of Job_id and locn_id and list of location\n",
    "                val = (str(i), str(k+1), lst[k])\n",
    "\n",
    "                # For Executing the query\n",
    "                mycursor.execute(sql, val)\n",
    "\n",
    "                # For Commiting the changes to the database\n",
    "                mydb.commit()\n",
    "\n",
    "        print(\"location_Jobs record inserted\")\n",
    "\n",
    "except Exception as e:\n",
    "    raise print(e)\n"
   ]
  },
  {
   "cell_type": "code",
   "execution_count": null,
   "metadata": {},
   "outputs": [],
   "source": []
  }
 ],
 "metadata": {
  "kernelspec": {
   "display_name": "Python 3",
   "language": "python",
   "name": "python3"
  },
  "language_info": {
   "codemirror_mode": {
    "name": "ipython",
    "version": 3
   },
   "file_extension": ".py",
   "mimetype": "text/x-python",
   "name": "python",
   "nbconvert_exporter": "python",
   "pygments_lexer": "ipython3",
   "version": "3.7.0"
  }
 },
 "nbformat": 4,
 "nbformat_minor": 2
}
